{
  "cells": [
    {
      "cell_type": "markdown",
      "metadata": {
        "id": "view-in-github",
        "colab_type": "text"
      },
      "source": [
        "<a href=\"https://colab.research.google.com/github/SANJIVANI2411/Automation_Project/blob/main/Fetech_Research_Paper.ipynb\" target=\"_parent\"><img src=\"https://colab.research.google.com/assets/colab-badge.svg\" alt=\"Open In Colab\"/></a>"
      ]
    },
    {
      "cell_type": "code",
      "source": [
        "import requests\n",
        "import csv\n",
        "import logging\n",
        "import xml.etree.ElementTree as ET\n",
        "import sys\n",
        "from typing import List, Dict, Any\n",
        "\n",
        "\n",
        "logging.basicConfig(level=logging.INFO)\n",
        "\n",
        "\n",
        "PUBMED_API_URL = \"https://eutils.ncbi.nlm.nih.gov/entrez/eutils/esearch.fcgi\"\n",
        "FETCH_API_URL = \"https://eutils.ncbi.nlm.nih.gov/entrez/eutils/efetch.fcgi\"\n",
        "\n",
        "def fetch_paper_ids(query: str) -> List[str]:\n",
        "    \"\"\"Fetch paper IDs from PubMed based on the query.\"\"\"\n",
        "    params = {\n",
        "        \"db\": \"pubmed\",\n",
        "        \"term\": query,\n",
        "        \"retmode\": \"json\",\n",
        "        \"retmax\": 10\n",
        "    }\n",
        "    response = requests.get(PUBMED_API_URL, params=params)\n",
        "    response.raise_for_status()\n",
        "    data = response.json()\n",
        "    return data.get(\"esearchresult\", {}).get(\"idlist\", [])\n",
        "\n",
        "def fetch_paper_details(paper_ids: List[str]) -> str:\n",
        "    \"\"\"Fetch details of papers given their PubMed IDs.\"\"\"\n",
        "    if not paper_ids:\n",
        "        return \"\"\n",
        "    params = {\n",
        "        \"db\": \"pubmed\",\n",
        "        \"id\": \",\".join(paper_ids),\n",
        "        \"retmode\": \"xml\"\n",
        "    }\n",
        "    response = requests.get(FETCH_API_URL, params=params)\n",
        "    response.raise_for_status()\n",
        "    return response.text\n",
        "\n",
        "def extract_relevant_data(xml_data: str) -> List[Dict[str, Any]]:\n",
        "    \"\"\"Extract required fields from PubMed XML response.\"\"\"\n",
        "    papers = []\n",
        "    root = ET.fromstring(xml_data)\n",
        "    for article in root.findall(\".//PubmedArticle\"):\n",
        "        pubmed_id = article.find(\".//PMID\").text if article.find(\".//PMID\") is not None else \"\"\n",
        "        title = article.find(\".//ArticleTitle\").text if article.find(\".//ArticleTitle\") is not None else \"\"\n",
        "        pub_date = article.find(\".//PubDate/Year\").text if article.find(\".//PubDate/Year\") is not None else \"\"\n",
        "        authors = []\n",
        "        for author in article.findall(\".//Author\"):\n",
        "            last_name = author.find(\".//LastName\")\n",
        "            fore_name = author.find(\".//ForeName\")\n",
        "            name = \" \".join(filter(None, [last_name.text if last_name is not None else \"\", fore_name.text if fore_name is not None else \"\"]))\n",
        "            affiliation = author.find(\".//AffiliationInfo/Affiliation\")\n",
        "            authors.append({\"name\": name, \"affiliation\": affiliation.text if affiliation is not None else \"\"})\n",
        "        papers.append({\n",
        "            \"pubmed_id\": pubmed_id,\n",
        "            \"title\": title,\n",
        "            \"publication_date\": pub_date,\n",
        "            \"authors\": authors\n",
        "        })\n",
        "    return papers\n",
        "\n",
        "def filter_non_academic_authors(papers: List[Dict[str, Any]]) -> List[Dict[str, Any]]:\n",
        "    \"\"\"Filter papers where at least one author is affiliated with a company.\"\"\"\n",
        "    pharma_keywords = [\"pharma\", \"biotech\", \"inc\", \"ltd\", \"corporation\", \"company\"]\n",
        "    filtered_papers = []\n",
        "    for paper in papers:\n",
        "        non_academic_authors = []\n",
        "        company_affiliations = []\n",
        "        for author in paper.get(\"authors\", []):\n",
        "            affiliation = author.get(\"affiliation\", \"\").lower()\n",
        "            if any(keyword in affiliation for keyword in pharma_keywords):\n",
        "                non_academic_authors.append(author[\"name\"])\n",
        "                company_affiliations.append(affiliation)\n",
        "        if non_academic_authors:\n",
        "            paper[\"non_academic_authors\"] = non_academic_authors\n",
        "            paper[\"company_affiliations\"] = company_affiliations\n",
        "            filtered_papers.append(paper)\n",
        "    return filtered_papers\n",
        "\n",
        "def save_to_csv(papers: List[Dict[str, Any]], filename: str):\n",
        "    \"\"\"Save the filtered papers to a CSV file.\"\"\"\n",
        "    with open(filename, \"w\", newline=\"\", encoding=\"utf-8\") as file:\n",
        "        writer = csv.writer(file)\n",
        "        writer.writerow([\"PubmedID\", \"Title\", \"Publication Date\", \"Non-academic Authors\", \"Company Affiliations\"])\n",
        "        for paper in papers:\n",
        "            writer.writerow([\n",
        "                paper.get(\"pubmed_id\", \"\"),\n",
        "                paper.get(\"title\", \"\"),\n",
        "                paper.get(\"publication_date\", \"\"),\n",
        "                \"; \".join(paper.get(\"non_academic_authors\", [])),\n",
        "                \"; \".join(paper.get(\"company_affiliations\", []))\n",
        "            ])\n",
        "    logging.info(f\"Results saved to {filename}\")\n",
        "\n",
        "\n",
        "query = \"cancer research\"\n",
        "filename = \"results.csv\"\n",
        "debug_mode = False\n",
        "\n",
        "if debug_mode:\n",
        "    logging.getLogger().setLevel(logging.DEBUG)\n",
        "\n",
        "logging.info(\"Fetching papers...\")\n",
        "paper_ids = fetch_paper_ids(query)\n",
        "xml_data = fetch_paper_details(paper_ids)\n",
        "papers = extract_relevant_data(xml_data)\n",
        "filtered_papers = filter_non_academic_authors(papers)\n",
        "\n",
        "if filename:\n",
        "    save_to_csv(filtered_papers, filename)\n",
        "    print(f\"Results saved to {filename}\")\n",
        "else:\n",
        "    for paper in filtered_papers:\n",
        "        print(paper)\n"
      ],
      "metadata": {
        "id": "BNHV6qhx30XN",
        "outputId": "982ca0cb-93bd-47ec-8c2f-10027fccffec",
        "colab": {
          "base_uri": "https://localhost:8080/"
        }
      },
      "execution_count": 1,
      "outputs": [
        {
          "output_type": "stream",
          "name": "stdout",
          "text": [
            "Results saved to results.csv\n"
          ]
        }
      ]
    },
    {
      "cell_type": "code",
      "source": [
        "from google.colab import files\n",
        "files.download(\"results.csv\")\n"
      ],
      "metadata": {
        "id": "cwCboFhc4GvO",
        "outputId": "e643dbb9-5f34-4511-b8b4-024594125a25",
        "colab": {
          "base_uri": "https://localhost:8080/",
          "height": 17
        }
      },
      "execution_count": 2,
      "outputs": [
        {
          "output_type": "display_data",
          "data": {
            "text/plain": [
              "<IPython.core.display.Javascript object>"
            ],
            "application/javascript": [
              "\n",
              "    async function download(id, filename, size) {\n",
              "      if (!google.colab.kernel.accessAllowed) {\n",
              "        return;\n",
              "      }\n",
              "      const div = document.createElement('div');\n",
              "      const label = document.createElement('label');\n",
              "      label.textContent = `Downloading \"${filename}\": `;\n",
              "      div.appendChild(label);\n",
              "      const progress = document.createElement('progress');\n",
              "      progress.max = size;\n",
              "      div.appendChild(progress);\n",
              "      document.body.appendChild(div);\n",
              "\n",
              "      const buffers = [];\n",
              "      let downloaded = 0;\n",
              "\n",
              "      const channel = await google.colab.kernel.comms.open(id);\n",
              "      // Send a message to notify the kernel that we're ready.\n",
              "      channel.send({})\n",
              "\n",
              "      for await (const message of channel.messages) {\n",
              "        // Send a message to notify the kernel that we're ready.\n",
              "        channel.send({})\n",
              "        if (message.buffers) {\n",
              "          for (const buffer of message.buffers) {\n",
              "            buffers.push(buffer);\n",
              "            downloaded += buffer.byteLength;\n",
              "            progress.value = downloaded;\n",
              "          }\n",
              "        }\n",
              "      }\n",
              "      const blob = new Blob(buffers, {type: 'application/binary'});\n",
              "      const a = document.createElement('a');\n",
              "      a.href = window.URL.createObjectURL(blob);\n",
              "      a.download = filename;\n",
              "      div.appendChild(a);\n",
              "      a.click();\n",
              "      div.remove();\n",
              "    }\n",
              "  "
            ]
          },
          "metadata": {}
        },
        {
          "output_type": "display_data",
          "data": {
            "text/plain": [
              "<IPython.core.display.Javascript object>"
            ],
            "application/javascript": [
              "download(\"download_2f58321a-c5d2-4dea-b11f-585cf9cb4d58\", \"results.csv\", 3301)"
            ]
          },
          "metadata": {}
        }
      ]
    }
  ],
  "metadata": {
    "colab": {
      "toc_visible": true,
      "provenance": [],
      "include_colab_link": true
    },
    "kernelspec": {
      "display_name": "Python 3",
      "name": "python3"
    }
  },
  "nbformat": 4,
  "nbformat_minor": 0
}